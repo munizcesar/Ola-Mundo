{
  "nbformat": 4,
  "nbformat_minor": 0,
  "metadata": {
    "colab": {
      "provenance": [],
      "mount_file_id": "12HrhqHWVOZK1bgvPK2_GQnHOL64l0QDT",
      "authorship_tag": "ABX9TyNqikBImmQAhFT044t4jMMY",
      "include_colab_link": true
    },
    "kernelspec": {
      "name": "python3",
      "display_name": "Python 3"
    },
    "language_info": {
      "name": "python"
    }
  },
  "cells": [
    {
      "cell_type": "markdown",
      "metadata": {
        "id": "view-in-github",
        "colab_type": "text"
      },
      "source": [
        "<a href=\"https://colab.research.google.com/github/munizcesar/Ola-Mundo/blob/main/logica_de_Programa%C3%A7%C3%A3o.ipynb\" target=\"_parent\"><img src=\"https://colab.research.google.com/assets/colab-badge.svg\" alt=\"Open In Colab\"/></a>"
      ]
    },
    {
      "cell_type": "code",
      "source": [],
      "metadata": {
        "id": "PlAe1sV_MzGY"
      },
      "execution_count": null,
      "outputs": []
    },
    {
      "cell_type": "markdown",
      "source": [
        "# ***Conversor de Bases Numéricas***"
      ],
      "metadata": {
        "id": "ZZpIZTvBXB80"
      }
    },
    {
      "cell_type": "code",
      "source": [
        "num = int(input('Digite um número inteiro:'))\n",
        "print('''Escolha uma das bases para conversação:\n",
        "[ 1 ] converter para BINÁRIO\n",
        "[ 2 ] converter para OCTAL\n",
        "[ 3 ] converter para HEXADECIMAL''')\n",
        "opção = int(input('sua opção: '))\n",
        "if opção == 1:\n",
        "  print(f'{num} convertido para BINÁRIO é igual a {bin(num)}')\n",
        "elif opção == 2:\n",
        "  print(f'{num} convertido para OCTAL é igual a {oct(num)}')\n",
        "elif opção == 3:\n",
        "  print(f'{num} convertido para HEXADECIMAL é igual a {hex(num)}')\n",
        "else:\n",
        "  print('Opção inválida.')\n",
        "\n"
      ],
      "metadata": {
        "colab": {
          "base_uri": "https://localhost:8080/"
        },
        "id": "oD0gZmIvXOMI",
        "outputId": "f8cbd4f7-3ebf-4138-b524-09fd9934fe8b"
      },
      "execution_count": 12,
      "outputs": [
        {
          "output_type": "stream",
          "name": "stdout",
          "text": [
            "Digite um número inteiro:320\n",
            "Escolha uma das bases para conversação:\n",
            "[ 1 ] converter para BINÁRIO\n",
            "[ 2 ] converter para OCTAL\n",
            "[ 3 ] converter para HEXADECIMAL\n",
            "sua opção: 1\n",
            "320 convertido para BINÁRIO é igual a 0b101000000\n"
          ]
        }
      ]
    }
  ]
}